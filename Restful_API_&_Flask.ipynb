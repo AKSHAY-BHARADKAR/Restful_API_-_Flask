{
  "cells": [
    {
      "cell_type": "code",
      "execution_count": null,
      "metadata": {
        "id": "c3KZvVH-oGaO"
      },
      "outputs": [],
      "source": []
    },
    {
      "cell_type": "markdown",
      "metadata": {
        "id": "fE4KWCPdop93"
      },
      "source": [
        "RESTful API & Flask Assignment Quetions and Answer :\n",
        "\n",
        "1. What is a RESTful API?\n",
        "\n",
        "Answer :-\n",
        "\n",
        "•\tA RESTful API is an API that follows the principles of Representational State Transfer (REST) architecture. It allows clients to interact with server-side resources using standard HTTP methods like GET, POST, PUT, DELETE.\n",
        "\n",
        "2. Explain the concept of API specification.\n",
        "\n",
        "Answer :-\n",
        "\n",
        "•\tAn API specification defines the structure and behavior of an API. It includes details such as available endpoints, request/response formats, and authentication methods. Specifications help developers understand how to use the API.\n",
        "\n",
        "3. What is Flask, and why is it popular for building APIs?\n",
        "\n",
        "Answer :-\n",
        "\n",
        "•\tFlask is a lightweight web framework for Python, used for building web applications and APIs. It is popular because it is easy to set up, has minimal complexity, and allows developers to extend its functionality using various plugins.\n",
        "\n",
        "4. What is routing in Flask?\n",
        "\n",
        "Answer :-\n",
        "\n",
        "•\tRouting in Flask refers to the process of defining URL patterns for handling different requests. Each route is associated with a function that is triggered when a specific URL is accessed.\n",
        "5. How do you create a simple Flask application?\n",
        "from flask import Flask\n",
        "\n",
        "app = Flask(__name__)\n",
        "\n",
        "@app.route('/')\n",
        "def home():\n",
        "    return \"Hello, Flask!\"\n",
        "\n",
        "if __name__ == '__main__':\n",
        "    app.run()\n",
        "\n",
        "6. What are HTTP methods used in RESTful APIs?\n",
        "\n",
        "Answer :-\n",
        "\n",
        "•\tCommon HTTP methods include:\n",
        "o\tGET: Retrieve data.\n",
        "o\tPOST: Submit data to be processed.\n",
        "o\tPUT: Update or replace data.\n",
        "o\tDELETE: Remove data.\n",
        "o\tPATCH: Partially update data.\n",
        "\n",
        "7. What is the purpose of the @app.route() decorator in Flask?\n",
        "\n",
        "\n",
        "•\tThe @app.route() decorator defines the route or URL that triggers a particular view function. It maps the URL to a specific Python function.\n",
        "\n",
        "8. What is the difference between GET and POST HTTP methods?\n",
        "\n",
        "Answer :-\n",
        "\n",
        "•\tGET requests are used to retrieve data and are idempotent (don't change server state), whereas POST requests are used to submit data that may modify the server's state.\n",
        "\n",
        "\n",
        "9. How do you handle errors in Flask APIs?\n",
        "\n",
        "Answer :-\n",
        "\n",
        "•\tFlask provides a @app.errorhandler() decorator to define custom error-handling routes. For example, you can handle a 404 error using:\n",
        "@app.errorhandler(404)\n",
        "def not_found(error):\n",
        "    \n",
        "\n",
        "10. How do you connect Flask to a SQL database?\n",
        "\n",
        "Answer :-\n",
        "\n",
        "•\tFlask can be connected to a SQL database using the Flask-SQLAlchemy extension:\n",
        "from flask_sqlalchemy import SQLAlchemy\n",
        "\n",
        "app = Flask(__name__)\n",
        "app.config['SQLALCHEMY_DATABASE_URI'] = 'sqlite:///mydb.db'\n",
        "db = SQLAlchemy(app)\n",
        "\n",
        "\n",
        "11. What is the role of Flask-SQLAlchemy?\n",
        "\n",
        "Answer :-\n",
        "\n",
        "•\tFlask-SQLAlchemy is an extension that integrates SQLAlchemy with Flask. It simplifies database management and provides ORM (Object Relational Mapping) capabilities for working with databases.\n",
        "\n",
        "\n",
        "12. What are Flask blueprints, and how are they useful?\n",
        "\n",
        "Answer :-\n",
        "\n",
        "•\tFlask blueprints allow you to organize your application into modules, making it easier to manage large applications by separating the code for different functionalities into different files or components.\n",
        "\n",
        "\n",
        "13. What is the purpose of Flask's request object?\n",
        "\n",
        "Answer :-\n",
        "\n",
        "•\tFlask’s request object holds information about the current request, such as form data, URL parameters, and headers. It is used to access the data sent by the client.\n",
        "\n",
        "\n",
        "14. How do you create a RESTful API endpoint using Flask?\n",
        "\n",
        "Answer :-\n",
        "\n",
        "from flask import Flask, jsonify\n",
        "\n",
        "app = Flask(__name__)\n",
        "\n",
        "@app.route('/api/data', methods=['GET'])\n",
        "def get_data():\n",
        "    return jsonify({'message': 'Hello, API!'})\n",
        "\n",
        "if __name__ == '__main__':\n",
        "    app.run()\n",
        "\n",
        "\n",
        "15. What is the purpose of Flask's jsonify() function?\n",
        "\n",
        "Answer :-\n",
        "\n",
        "•\tjsonify() is used to convert Python dictionaries and lists into JSON format, which is the standard format for data exchange in REST APIs.\n",
        "\n",
        "\n",
        "16. Explain Flask’s url_for() function.\n",
        "\n",
        "Answer :-\n",
        "\n",
        "•\tThe url_for() function generates a URL for a specific function. This is useful to avoid hardcoding URLs in the application.\n",
        "\n",
        "\n",
        "17. How does Flask handle static files (CSS, JavaScript, etc.)?\n",
        "\n",
        "Answer :-\n",
        "\n",
        "•\tFlask serves static files from the static/ directory by default. You can access them using the url_for('static', filename='filename') method.\n",
        "\n",
        "\n",
        "18. What is an API specification, and how does it help in building a Flask API?\n",
        "\n",
        "Answer :-\n",
        "\n",
        "•\tAn API specification defines the contract between the API and its users. It helps in clearly documenting the API endpoints, parameters, and responses, enabling better communication between the developers and consumers of the API.\n",
        "\n",
        "\n",
        "19. What are HTTP status codes, and why are they important in a Flask API?\n",
        "\n",
        "Answer :-\n",
        "\n",
        "•\tHTTP status codes indicate the result of a client’s request to the server (e.g., 200 for success, 404 for not found). They are important to communicate whether an API request was successful or failed and why.\n",
        "\n",
        "\n",
        "20. How do you handle POST requests in Flask?\n",
        "\n",
        "Answer :-\n",
        "\n",
        "•\tYou handle POST requests by using the @app.route() decorator with the methods=['POST'] argument. Inside the route function, you can access the posted data using request.form or request.json.\n",
        "\n",
        "\n",
        "21. How would you secure a Flask API?\n",
        "\n",
        "Answer :-\n",
        "\n",
        "•\tSecurity measures for a Flask API include:\n",
        "o\tUsing HTTPS to encrypt data.\n",
        "o\tImplementing authentication (JWT, OAuth).\n",
        "o\tValidating and sanitizing inputs.\n",
        "o\tApplying rate limiting to prevent abuse.\n",
        "\n",
        "\n",
        "22. What is the significance of the Flask-RESTful extension?\n",
        "\n",
        "Answer :-\n",
        "\n",
        "•\tFlask-RESTful simplifies the process of building REST APIs with Flask by providing abstractions for routing, handling HTTP methods, and formatting output.\n",
        "\n",
        "23. What is the role of Flask’s session object?\n",
        "\n",
        "Answer :-\n",
        "\n",
        "•\tFlask's session object allows you to store data across requests for a user session. The data is signed and stored on the client side, ensuring that it is tamper-proof.\n",
        "These are the answers to the theoretical questions from the assignment. Would you like to proceed with the practical questions now?\n"
      ]
    },
    {
      "cell_type": "markdown",
      "metadata": {
        "id": "KEtr1E1asRYG"
      },
      "source": [
        "Practical Quetions And Answer"
      ]
    },
    {
      "cell_type": "code",
      "execution_count": null,
      "metadata": {
        "colab": {
          "background_save": true
        },
        "id": "XCcvBqDIr1Gw"
      },
      "outputs": [],
      "source": [
        "# 1. How do you create a basic Flask application?\n",
        "\n",
        "from flask import Flask\n",
        "\n",
        "# Create the Flask application instance\n",
        "app = Flask(__name__)\n",
        "\n",
        "# Define a route for the home page\n",
        "@app.route('/')\n",
        "def home():\n",
        "    return \"Hello, Flask!\"\n",
        "\n",
        "# Define a route for the about page\n",
        "@app.route('/about')\n",
        "def about():\n",
        "    return \"This is the About page.\"\n",
        "\n",
        "# Run the app if this script is run directly\n",
        "if __name__ == '__main__':\n",
        "    app.run(debug=True)\n",
        "\n"
      ]
    },
    {
      "cell_type": "code",
      "execution_count": null,
      "metadata": {
        "id": "qAeyHug2sZ06"
      },
      "outputs": [],
      "source": [
        "# 2. How do you serve static files like images or CSS in Flask?\n",
        "\n",
        "project/\n",
        "│\n",
        "├── app.py\n",
        "├── static/\n",
        "│   ├── styles.css\n",
        "│   └── images/\n",
        "│       └── logo.png\n"
      ]
    },
    {
      "cell_type": "code",
      "execution_count": null,
      "metadata": {
        "id": "udBlwKM9sN0O"
      },
      "outputs": [],
      "source": [
        "#  Create an HTML file (index.html) that includes CSS and images:\n",
        "\n",
        "<!-- templates/index.html -->\n",
        "<!DOCTYPE html>\n",
        "<html lang=\"en\">\n",
        "<head>\n",
        "    <meta charset=\"UTF-8\">\n",
        "    <meta name=\"viewport\" content=\"width=device-width, initial-scale=1.0\">\n",
        "    <title>Flask Static Files Example</title>\n",
        "    <!-- Link to CSS file -->\n",
        "    <link rel=\"stylesheet\" href=\"{{ url_for('static', filename='styles.css') }}\">\n",
        "</head>\n",
        "<body>\n",
        "    <h1>Serving Static Files in Flask</h1>\n",
        "    <!-- Display an image -->\n",
        "    <img src=\"{{ url_for('static', filename='images/logo.png') }}\" alt=\"Logo\">\n",
        "</body>\n",
        "</html>\n"
      ]
    },
    {
      "cell_type": "code",
      "execution_count": null,
      "metadata": {
        "id": "szowaXrAtVJL"
      },
      "outputs": [],
      "source": [
        "# 3. How do you define different routes with different HTTP methods in Flask?\n",
        "\n",
        "from flask import Flask, request\n",
        "\n",
        "app = Flask(__name__)\n",
        "\n",
        "# Route that handles both GET and POST methods\n",
        "@app.route('/form', methods=['GET', 'POST'])\n",
        "def form():\n",
        "    if request.method == 'POST':\n",
        "        # Handle POST request (e.g., form submission)\n",
        "        name = request.form['name']  # Get data from form\n",
        "        return f\"Hello, {name}!\"\n",
        "    else:\n",
        "        # Handle GET request (e.g., show form)\n",
        "        return '''\n",
        "        <form method=\"post\">\n",
        "            Name: <input type=\"text\" name=\"name\">\n",
        "            <input type=\"submit\">\n",
        "        </form>\n",
        "        '''\n",
        "\n",
        "if __name__ == '__main__':\n",
        "    app.run(debug=True)\n"
      ]
    },
    {
      "cell_type": "code",
      "execution_count": null,
      "metadata": {
        "id": "racqRaY6t-jE"
      },
      "outputs": [],
      "source": [
        "# Defining Routes with Other HTTP Methods (PUT, DELETE)\n",
        "\n",
        "@app.route('/update', methods=['PUT'])\n",
        "def update():\n",
        "    return \"This is a PUT request.\"\n",
        "\n",
        "@app.route('/delete', methods=['DELETE'])\n",
        "def delete():\n",
        "    return \"This is a DELETE request.\"\n"
      ]
    },
    {
      "cell_type": "code",
      "execution_count": null,
      "metadata": {
        "id": "Jbs2TLr7uPPj"
      },
      "outputs": [],
      "source": [
        "# 4. How do you render HTML templates in Flask?\n",
        "\n",
        "project/\n",
        "│\n",
        "├── app.py\n",
        "└── templates/\n",
        "    └── index.html\n",
        "\n",
        "\n"
      ]
    },
    {
      "cell_type": "code",
      "execution_count": null,
      "metadata": {
        "id": "dxQSu30PuoDb"
      },
      "outputs": [],
      "source": [
        "# Write HTML Templates\n",
        "\n",
        "<!DOCTYPE html>\n",
        "<html lang=\"en\">\n",
        "<head>\n",
        "    <meta charset=\"UTF-8\">\n",
        "    <meta name=\"viewport\" content=\"width=device-width, initial-scale=1.0\">\n",
        "    <title>{{ title }}</title>\n",
        "</head>\n",
        "<body>\n",
        "    <h1>{{ heading }}</h1>\n",
        "    <p>{{ content }}</p>\n",
        "\n",
        "    <ul>\n",
        "    {% for item in items %}\n",
        "        <li>{{ item }}</li>\n",
        "    {% endfor %}\n",
        "    </ul>\n",
        "</body>\n",
        "</html>\n"
      ]
    },
    {
      "cell_type": "code",
      "execution_count": null,
      "metadata": {
        "id": "uyXtHOWKvskB"
      },
      "outputs": [],
      "source": [
        "# 5. How can you generate URLs for routes in Flask using url_for?\n",
        "\n",
        "url_for(endpoint, **values)\n"
      ]
    },
    {
      "cell_type": "code",
      "execution_count": null,
      "metadata": {
        "id": "NfzFlEj2v406"
      },
      "outputs": [],
      "source": [
        "from flask import Flask, url_for, redirect\n",
        "\n",
        "app = Flask(__name__)\n",
        "\n",
        "# Define a route for the home page\n",
        "@app.route('/')\n",
        "def home():\n",
        "    return 'This is the home page.'\n",
        "\n",
        "# Define a route for the about page\n",
        "@app.route('/about')\n",
        "def about():\n",
        "    return 'This is the about page.'\n",
        "\n",
        "# Define a route that redirects to the home page using url_for()\n",
        "@app.route('/go-home')\n",
        "def go_home():\n",
        "    return redirect(url_for('home'))\n",
        "\n",
        "if __name__ == '__main__':\n",
        "    app.run(debug=True)\n"
      ]
    },
    {
      "cell_type": "code",
      "execution_count": null,
      "metadata": {
        "id": "nSqmsPD4v8Bp"
      },
      "outputs": [],
      "source": [
        "# 6. How do you handle forms in Flask?\n",
        "\n",
        "# Render an HTML Form\n",
        "\n",
        "<!-- templates/form.html -->\n",
        "<!DOCTYPE html>\n",
        "<html lang=\"en\">\n",
        "<head>\n",
        "    <meta charset=\"UTF-8\">\n",
        "    <meta name=\"viewport\" content=\"width=device-width, initial-scale=1.0\">\n",
        "    <title>Flask Form Example</title>\n",
        "</head>\n",
        "<body>\n",
        "    <h1>Flask Form Example</h1>\n",
        "    <!-- Form that submits data to /submit-form route using POST method -->\n",
        "    <form action=\"{{ url_for('submit_form') }}\" method=\"POST\">\n",
        "        <label for=\"name\">Name:</label>\n",
        "        <input type=\"text\" id=\"name\" name=\"name\">\n",
        "        <br><br>\n",
        "        <label for=\"email\">Email:</label>\n",
        "        <input type=\"email\" id=\"email\" name=\"email\">\n",
        "        <br><br>\n",
        "        <input type=\"submit\" value=\"Submit\">\n",
        "    </form>\n",
        "</body>\n",
        "</html>\n"
      ]
    },
    {
      "cell_type": "code",
      "execution_count": null,
      "metadata": {
        "id": "uCmQPWsowXPu"
      },
      "outputs": [],
      "source": [
        "# Define a Route to Display the Form\n",
        "\n",
        "from flask import Flask, render_template\n",
        "\n",
        "app = Flask(__name__)\n",
        "\n",
        "@app.route('/form')\n",
        "def form():\n",
        "    return render_template('form.html')\n",
        "\n",
        "if __name__ == '__main__':\n",
        "    app.run(debug=True)\n"
      ]
    },
    {
      "cell_type": "code",
      "execution_count": null,
      "metadata": {
        "id": "_Fd67afgwqGa"
      },
      "outputs": [],
      "source": [
        "# 7. How can you validate form data in Flask?\n",
        "\n",
        "from flask import Flask, request, render_template\n",
        "\n",
        "app = Flask(__name__)\n",
        "\n",
        "@app.route('/form', methods=['GET', 'POST'])\n",
        "def form():\n",
        "    if request.method == 'POST':\n",
        "        name = request.form.get('name')\n",
        "        email = request.form.get('email')\n",
        "\n",
        "        # Simple validation: check if fields are not empty\n",
        "        if not name or not email:\n",
        "            return \"Error: Both fields are required.\"\n",
        "\n",
        "        # Further validation: check if email contains '@'\n",
        "        if '@' not in email:\n",
        "            return \"Error: Invalid email address.\"\n",
        "\n",
        "        return f\"Form submitted! Name: {name}, Email: {email}\"\n",
        "\n",
        "    return render_template('form.html')\n",
        "\n",
        "if __name__ == '__main__':\n",
        "    app.run(debug=True)\n"
      ]
    },
    {
      "cell_type": "code",
      "execution_count": null,
      "metadata": {
        "id": "ynbUJj0Sw3fP"
      },
      "outputs": [],
      "source": [
        "# Defining the Form with WTForms\n",
        "\n",
        "from flask import Flask, render_template, redirect, url_for\n",
        "from flask_wtf import FlaskForm\n",
        "from wtforms import StringField, EmailField, SubmitField\n",
        "from wtforms.validators import DataRequired, Email, Length\n",
        "\n",
        "app = Flask(__name__)\n",
        "app.secret_key = 'secret_key_for_csrf_protection'  # Required for CSRF protection\n",
        "\n",
        "# Define the form using Flask-WTF and WTForms\n",
        "class ContactForm(FlaskForm):\n",
        "    name = StringField('Name', validators=[DataRequired(), Length(min=2, max=30)])\n",
        "    email = EmailField('Email', validators=[DataRequired(), Email()])\n",
        "    submit = SubmitField('Submit')\n",
        "\n",
        "@app.route('/contact', methods=['GET', 'POST'])\n",
        "def contact():\n",
        "    form = ContactForm()\n",
        "\n",
        "    # Validate form data when form is submitted\n",
        "    if form.validate_on_submit():\n",
        "        # Process valid form data\n",
        "        name = form.name.data\n",
        "        email = form.email.data\n",
        "        return redirect(url_for('thank_you'))\n",
        "\n",
        "    # If form is not valid or request method is GET, render the form again\n",
        "    return render_template('contact.html', form=form)\n",
        "\n",
        "@app.route('/thank-you')\n",
        "def thank_you():\n",
        "    return \"Thank you for submitting the form!\"\n",
        "\n",
        "if __name__ == '__main__':\n",
        "    app.run(debug=True)\n"
      ]
    },
    {
      "cell_type": "code",
      "execution_count": null,
      "metadata": {
        "id": "BS_sZQ5exD33"
      },
      "outputs": [],
      "source": [
        "# 8. How do you manage sessions in Flask?\n",
        "\n",
        "from flask import Flask, session\n",
        "\n",
        "app = Flask(__name__)\n",
        "\n",
        "# Secret key is required for session management\n",
        "app.secret_key = 'your_secret_key'  # Replace with a strong, random key\n",
        "\n",
        "# or load from an environment variable (safer for production)\n",
        "# app.secret_key = os.environ.get('SECRET_KEY')\n",
        "\n",
        "if __name__ == '__main__':\n",
        "    app.run(debug=True)\n"
      ]
    },
    {
      "cell_type": "code",
      "execution_count": null,
      "metadata": {
        "id": "Hc8h8dFExUQf"
      },
      "outputs": [],
      "source": [
        "# Using Sessions in Flask\n",
        "\n",
        "from flask import Flask, session, redirect, url_for, request\n",
        "\n",
        "app = Flask(__name__)\n",
        "app.secret_key = 'your_secret_key'\n",
        "\n",
        "@app.route('/')\n",
        "def index():\n",
        "    return f\"User: {session.get('username', 'Guest')}\"\n",
        "\n",
        "@app.route('/login', methods=['POST'])\n",
        "def login():\n",
        "    username = request.form['username']\n",
        "    # Store user information in the session\n",
        "    session['username'] = username\n",
        "    return redirect(url_for('index'))\n",
        "\n",
        "@app.route('/logout')\n",
        "def logout():\n",
        "    # Remove user information from the session\n",
        "    session.pop('username', None)\n",
        "    return redirect(url_for('index'))\n",
        "\n",
        "if __name__ == '__main__':\n",
        "    app.run(debug=True)\n"
      ]
    },
    {
      "cell_type": "code",
      "execution_count": null,
      "metadata": {
        "id": "HVrFIm7Rxg0F"
      },
      "outputs": [],
      "source": [
        "# 9. How do you redirect to a different route in Flask?\n",
        "\n",
        "from flask import Flask, redirect, url_for\n",
        "\n",
        "app = Flask(__name__)\n",
        "\n",
        "@app.route('/')\n",
        "def index():\n",
        "    return 'This is the homepage.'\n",
        "\n",
        "@app.route('/login')\n",
        "def login():\n",
        "    return 'This is the login page.'\n",
        "\n",
        "@app.route('/redirect-to-login')\n",
        "def redirect_to_login():\n",
        "    # Redirect to the 'login' route\n",
        "    return redirect(url_for('login'))\n",
        "\n",
        "if __name__ == '__main__':\n",
        "    app.run(debug=True)\n"
      ]
    },
    {
      "cell_type": "code",
      "execution_count": null,
      "metadata": {
        "id": "xRtxoPdtxs8b"
      },
      "outputs": [],
      "source": [
        "# Redirect with Query Parameters\n",
        "\n",
        "@app.route('/user/<username>')\n",
        "def profile(username):\n",
        "    return f'User profile: {username}'\n",
        "\n",
        "@app.route('/redirect-to-profile')\n",
        "def redirect_to_profile():\n",
        "    # Redirect to the 'profile' route with a parameter\n",
        "    return redirect(url_for('profile', username='john_doe'))\n"
      ]
    },
    {
      "cell_type": "code",
      "execution_count": null,
      "metadata": {
        "id": "ayoXkQZWxyib"
      },
      "outputs": [],
      "source": [
        "# 10. How do you handle errors in Flask (e.g., 404)?\n",
        "\n",
        "# Handling a 404 Error (Page Not Found)\n",
        "\n",
        "from flask import Flask, render_template\n",
        "\n",
        "app = Flask(__name__)\n",
        "\n",
        "@app.route('/')\n",
        "def index():\n",
        "    return 'Welcome to the homepage!'\n",
        "\n",
        "# Custom 404 Error Page\n",
        "@app.errorhandler(404)\n",
        "def page_not_found(error):\n",
        "    return render_template('404.html'), 404\n",
        "\n",
        "if __name__ == '__main__':\n",
        "    app.run(debug=True)\n"
      ]
    },
    {
      "cell_type": "code",
      "execution_count": null,
      "metadata": {
        "id": "vFfbiQbhyKIc"
      },
      "outputs": [],
      "source": [
        " #   Custom Error Pages (Templates)\n",
        "\n",
        " <!DOCTYPE html>\n",
        "<html lang=\"en\">\n",
        "<head>\n",
        "    <meta charset=\"UTF-8\">\n",
        "    <meta name=\"viewport\" content=\"width=device-width, initial-scale=1.0\">\n",
        "    <title>Page Not Found</title>\n",
        "</head>\n",
        "<body>\n",
        "    <h1>404 - Page Not Found</h1>\n",
        "    <p>Oops! The page you are looking for doesn't exist.</p>\n",
        "    <a href=\"{{ url_for('index') }}\">Go back to the homepage</a>\n",
        "</body>\n",
        "</html>\n"
      ]
    },
    {
      "cell_type": "code",
      "execution_count": null,
      "metadata": {
        "id": "yR2kP9VBylOp"
      },
      "outputs": [],
      "source": [
        "# Logging Errors\n",
        "\n",
        "import logging\n",
        "from flask import Flask\n",
        "\n",
        "app = Flask(__name__)\n",
        "\n",
        "# Enable logging\n",
        "logging.basicConfig(level=logging.ERROR)\n",
        "\n",
        "@app.errorhandler(500)\n",
        "def internal_server_error(error):\n",
        "    app.logger.error(f'Server error: {error}')\n",
        "    return render_template('500.html'), 500\n"
      ]
    },
    {
      "cell_type": "code",
      "execution_count": null,
      "metadata": {
        "id": "A1Wk5XjPyvnG"
      },
      "outputs": [],
      "source": [
        "# 11. How do you structure a Flask app using Blueprints?\n",
        "\n",
        "myapp/\n",
        "│\n",
        "├── app/\n",
        "│   ├── __init__.py        # Application factory, registering blueprints\n",
        "│   ├── routes.py          # Main app routes (optional, main blueprint)\n",
        "│   ├── auth/              # Auth module (Blueprint)\n",
        "│   │   ├── __init__.py    # Define Blueprint\n",
        "│   │   ├── routes.py      # Auth-related routes\n",
        "│   ├── blog/              # Blog module (Blueprint)\n",
        "│   │   ├── __init__.py    # Define Blueprint\n",
        "│   │   ├── routes.py      # Blog-related routes\n",
        "│\n",
        "├── templates/             # HTML templates (organized by module)\n",
        "├── static/                # Static files (CSS, JS, images)\n",
        "└── run.py                 # Entry point to run the Flask app\n"
      ]
    },
    {
      "cell_type": "code",
      "execution_count": null,
      "metadata": {
        "id": "u278D-ZezAx7"
      },
      "outputs": [],
      "source": [
        "# Create Blueprints for Each Module\n",
        "\n",
        "from flask import Blueprint\n",
        "\n",
        "# Create a Blueprint instance for the auth module\n",
        "auth_bp = Blueprint('auth', __name__, url_prefix='/auth')\n",
        "\n",
        "from . import routes  # Import routes to associate with the Blueprint\n"
      ]
    },
    {
      "cell_type": "code",
      "execution_count": null,
      "metadata": {
        "id": "zFZQUoonzM4k"
      },
      "outputs": [],
      "source": [
        "#\n",
        "\n",
        "from flask import render_template, redirect, url_for, request, session\n",
        "from . import auth_bp  # Import the Blueprint instance\n",
        "\n",
        "@auth_bp.route('/login', methods=['GET', 'POST'])\n",
        "def login():\n",
        "    if request.method == 'POST':\n",
        "        # Handle login logic\n",
        "        username = request.form['username']\n",
        "        session['username'] = username\n",
        "        return redirect(url_for('main.index'))\n",
        "    return render_template('auth/login.html')\n",
        "\n",
        "@auth_bp.route('/logout')\n",
        "def logout():\n",
        "    session.pop('username', None)\n",
        "    return redirect(url_for('main.index'))\n"
      ]
    },
    {
      "cell_type": "code",
      "execution_count": null,
      "metadata": {
        "id": "mt7cqXgqzU9n"
      },
      "outputs": [],
      "source": [
        "# 12. How do you define a custom Jinja filter in Flask?\n",
        "\n",
        "def uppercase(text):\n",
        "    \"\"\"Convert text to uppercase.\"\"\"\n",
        "    return text.upper()\n"
      ]
    },
    {
      "cell_type": "code",
      "execution_count": null,
      "metadata": {
        "id": "1X8TvXWiznUu"
      },
      "outputs": [],
      "source": [
        "#  Register the Filter\n",
        "\n",
        "from flask import Flask\n",
        "\n",
        "app = Flask(__name__)\n",
        "\n",
        "@app.template_filter('uppercase')\n",
        "def uppercase(text):\n",
        "    \"\"\"Convert text to uppercase.\"\"\"\n",
        "    return text.upper()\n",
        "\n",
        "@app.route('/')\n",
        "def index():\n",
        "    name = \"Flask App\"\n",
        "    return render_template('index.html', name=name)\n",
        "\n",
        "if __name__ == '__main__':\n",
        "    app.run(debug=True)\n"
      ]
    },
    {
      "cell_type": "code",
      "execution_count": null,
      "metadata": {
        "id": "VsSkqjpxzxxq"
      },
      "outputs": [],
      "source": [
        "# Use the Custom Filter in Jinja Templates\n",
        "\n",
        "<!DOCTYPE html>\n",
        "<html lang=\"en\">\n",
        "<head>\n",
        "    <meta charset=\"UTF-8\">\n",
        "    <meta name=\"viewport\" content=\"width=device-width, initial-scale=1.0\">\n",
        "    <title>Custom Jinja Filter</title>\n",
        "</head>\n",
        "<body>\n",
        "    <h1>{{ name | uppercase }}</h1>\n",
        "    <!-- This will display: FLASK APP -->\n",
        "</body>\n",
        "</html>\n"
      ]
    },
    {
      "cell_type": "code",
      "execution_count": null,
      "metadata": {
        "id": "5xadgYPHz_c2"
      },
      "outputs": [],
      "source": [
        "# 13. How can you redirect with query parameters in Flask?\n",
        "\n",
        "from flask import Flask, redirect, url_for, request\n",
        "\n",
        "app = Flask(__name__)\n",
        "\n",
        "@app.route('/')\n",
        "def index():\n",
        "    # Redirect to the welcome route with query parameters\n",
        "    return redirect(url_for('welcome', name='John', age=30))\n",
        "\n",
        "@app.route('/welcome')\n",
        "def welcome():\n",
        "    # Access the query parameters\n",
        "    name = request.args.get('name')\n",
        "    age = request.args.get('age')\n",
        "    return f\"Welcome {name}, age {age}!\"\n",
        "\n",
        "if __name__ == '__main__':\n",
        "    app.run(debug=True)\n"
      ]
    },
    {
      "cell_type": "code",
      "execution_count": null,
      "metadata": {
        "id": "GkXTp2m_0LzA"
      },
      "outputs": [],
      "source": [
        "/welcome?name=John&age=30\n"
      ]
    },
    {
      "cell_type": "code",
      "execution_count": null,
      "metadata": {
        "id": "O_KPAuWX0MQr"
      },
      "outputs": [],
      "source": [
        "# 14. How do you return JSON responses in Flask?\n",
        "\n",
        "from flask import Flask, jsonify\n",
        "\n",
        "app = Flask(__name__)\n",
        "\n",
        "@app.route('/api/data')\n",
        "def get_data():\n",
        "    data = {\n",
        "        \"name\": \"Akshay\",\n",
        "        \"age\": 30,\n",
        "        \"city\": \"Nagpur\"\n",
        "    }\n",
        "    return jsonify(data)\n",
        "\n",
        "if __name__ == '__main__':\n",
        "    app.run(debug=True)\n"
      ]
    },
    {
      "cell_type": "code",
      "execution_count": null,
      "metadata": {
        "id": "JkPMZuRB0b38"
      },
      "outputs": [],
      "source": [
        "# 15. How do you capture URL parameters in Flask?\n",
        "\n",
        "from flask import Flask\n",
        "\n",
        "app = Flask(__name__)\n",
        "\n",
        "@app.route('/user/<username>')\n",
        "def show_user_profile(username):\n",
        "    # The value of <username> is passed to this function\n",
        "    return f'User: {username}'\n",
        "\n",
        "if __name__ == '__main__':\n",
        "    app.run(debug=True)\n"
      ]
    },
    {
      "cell_type": "code",
      "execution_count": null,
      "metadata": {
        "id": "cSTKVvka06i2"
      },
      "outputs": [],
      "source": [
        "# Capturing Multiple Parameters\n",
        "\n",
        "@app.route('/post/<int:post_id>/comment/<int:comment_id>')\n",
        "def show_comment(post_id, comment_id):\n",
        "    # The values of <post_id> and <comment_id> are passed to the function\n",
        "    return f'Post {post_id}, Comment {comment_id}'\n"
      ]
    }
  ],
  "metadata": {
    "colab": {
      "provenance": []
    },
    "kernelspec": {
      "display_name": "Python 3",
      "name": "python3"
    },
    "language_info": {
      "name": "python"
    }
  },
  "nbformat": 4,
  "nbformat_minor": 0
}